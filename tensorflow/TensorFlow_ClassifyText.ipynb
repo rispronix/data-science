{
 "cells": [
  {
   "cell_type": "code",
   "execution_count": 17,
   "metadata": {},
   "outputs": [
    {
     "name": "stdout",
     "output_type": "stream",
     "text": [
      "\u001b[33mDEPRECATION: Python 2.7 will reach the end of its life on January 1st, 2020. Please upgrade your Python as Python 2.7 won't be maintained after that date. A future version of pip will drop support for Python 2.7.\u001b[0m\n",
      "2.0.0-alpha0\n"
     ]
    }
   ],
   "source": [
    "from __future__ import absolute_import, division, print_function, unicode_literals\n",
    "\n",
    "!pip install -q tensorflow==2.0.0-alpha0\n",
    "import tensorflow as tf\n",
    "from tensorflow import keras\n",
    "\n",
    "import numpy as np\n",
    "\n",
    "print(tf.__version__)\n"
   ]
  },
  {
   "cell_type": "code",
   "execution_count": 18,
   "metadata": {},
   "outputs": [],
   "source": [
    "imdb = keras.datasets.imdb\n",
    "\n",
    "(train_data, train_labels), (test_data, test_labels) = imdb.load_data(num_words=10000)\n"
   ]
  },
  {
   "cell_type": "code",
   "execution_count": 19,
   "metadata": {},
   "outputs": [
    {
     "name": "stdout",
     "output_type": "stream",
     "text": [
      "Training entries: 25000, labels: 25000\n"
     ]
    }
   ],
   "source": [
    "print(\"Training entries: {}, labels: {}\".format(len(train_data), len(train_labels)))\n"
   ]
  },
  {
   "cell_type": "code",
   "execution_count": 20,
   "metadata": {},
   "outputs": [
    {
     "name": "stdout",
     "output_type": "stream",
     "text": [
      "[1, 14, 22, 16, 43, 530, 973, 1622, 1385, 65, 458, 4468, 66, 3941, 4, 173, 36, 256, 5, 25, 100, 43, 838, 112, 50, 670, 2, 9, 35, 480, 284, 5, 150, 4, 172, 112, 167, 2, 336, 385, 39, 4, 172, 4536, 1111, 17, 546, 38, 13, 447, 4, 192, 50, 16, 6, 147, 2025, 19, 14, 22, 4, 1920, 4613, 469, 4, 22, 71, 87, 12, 16, 43, 530, 38, 76, 15, 13, 1247, 4, 22, 17, 515, 17, 12, 16, 626, 18, 2, 5, 62, 386, 12, 8, 316, 8, 106, 5, 4, 2223, 5244, 16, 480, 66, 3785, 33, 4, 130, 12, 16, 38, 619, 5, 25, 124, 51, 36, 135, 48, 25, 1415, 33, 6, 22, 12, 215, 28, 77, 52, 5, 14, 407, 16, 82, 2, 8, 4, 107, 117, 5952, 15, 256, 4, 2, 7, 3766, 5, 723, 36, 71, 43, 530, 476, 26, 400, 317, 46, 7, 4, 2, 1029, 13, 104, 88, 4, 381, 15, 297, 98, 32, 2071, 56, 26, 141, 6, 194, 7486, 18, 4, 226, 22, 21, 134, 476, 26, 480, 5, 144, 30, 5535, 18, 51, 36, 28, 224, 92, 25, 104, 4, 226, 65, 16, 38, 1334, 88, 12, 16, 283, 5, 16, 4472, 113, 103, 32, 15, 16, 5345, 19, 178, 32]\n"
     ]
    }
   ],
   "source": [
    "print(train_data[0])\n"
   ]
  },
  {
   "cell_type": "code",
   "execution_count": 21,
   "metadata": {},
   "outputs": [
    {
     "data": {
      "text/plain": [
       "(218, 189)"
      ]
     },
     "execution_count": 21,
     "metadata": {},
     "output_type": "execute_result"
    }
   ],
   "source": [
    "len(train_data[0]), len(train_data[1])\n"
   ]
  },
  {
   "cell_type": "code",
   "execution_count": 22,
   "metadata": {},
   "outputs": [],
   "source": [
    "# A dictionary mapping words to an integer index\n",
    "word_index = imdb.get_word_index()\n",
    "\n",
    "# The first indices are reserved\n",
    "word_index = {k:(v+3) for k,v in word_index.items()}\n",
    "word_index[\"<PAD>\"] = 0\n",
    "word_index[\"<START>\"] = 1\n",
    "word_index[\"<UNK>\"] = 2  # unknown\n",
    "word_index[\"<UNUSED>\"] = 3\n",
    "\n",
    "reverse_word_index = dict([(value, key) for (key, value) in word_index.items()])\n",
    "\n",
    "def decode_review(text):\n",
    "    return ' '.join([reverse_word_index.get(i, '?') for i in text])\n"
   ]
  },
  {
   "cell_type": "code",
   "execution_count": 23,
   "metadata": {},
   "outputs": [
    {
     "data": {
      "text/plain": [
       "u\"<START> this film was just brilliant casting location scenery story direction everyone's really suited the part they played and you could just imagine being there robert <UNK> is an amazing actor and now the same being director <UNK> father came from the same scottish island as myself so i loved the fact there was a real connection with this film the witty remarks throughout the film were great it was just brilliant so much that i bought the film as soon as it was released for <UNK> and would recommend it to everyone to watch and the fly fishing was amazing really cried at the end it was so sad and you know what they say if you cry at a film it must have been good and this definitely was also <UNK> to the two little boy's that played the <UNK> of norman and paul they were just brilliant children are often left out of the <UNK> list i think because the stars that play them all grown up are such a big profile for the whole film but these children are amazing and should be praised for what they have done don't you think the whole story was so lovely because it was true and was someone's life after all that was shared with us all\""
      ]
     },
     "execution_count": 23,
     "metadata": {},
     "output_type": "execute_result"
    }
   ],
   "source": [
    "decode_review(train_data[0])\n"
   ]
  },
  {
   "cell_type": "code",
   "execution_count": 24,
   "metadata": {},
   "outputs": [],
   "source": [
    "train_data = keras.preprocessing.sequence.pad_sequences(train_data,\n",
    "                                                        value=word_index[\"<PAD>\"],\n",
    "                                                        padding='post',\n",
    "                                                        maxlen=256)\n",
    "\n",
    "test_data = keras.preprocessing.sequence.pad_sequences(test_data,\n",
    "                                                       value=word_index[\"<PAD>\"],\n",
    "                                                       padding='post',\n",
    "                                                       maxlen=256)\n"
   ]
  },
  {
   "cell_type": "code",
   "execution_count": 25,
   "metadata": {},
   "outputs": [
    {
     "data": {
      "text/plain": [
       "(256, 256)"
      ]
     },
     "execution_count": 25,
     "metadata": {},
     "output_type": "execute_result"
    }
   ],
   "source": [
    "len(train_data[0]), len(train_data[1])\n"
   ]
  },
  {
   "cell_type": "code",
   "execution_count": 26,
   "metadata": {},
   "outputs": [
    {
     "name": "stdout",
     "output_type": "stream",
     "text": [
      "[   1   14   22   16   43  530  973 1622 1385   65  458 4468   66 3941\n",
      "    4  173   36  256    5   25  100   43  838  112   50  670    2    9\n",
      "   35  480  284    5  150    4  172  112  167    2  336  385   39    4\n",
      "  172 4536 1111   17  546   38   13  447    4  192   50   16    6  147\n",
      " 2025   19   14   22    4 1920 4613  469    4   22   71   87   12   16\n",
      "   43  530   38   76   15   13 1247    4   22   17  515   17   12   16\n",
      "  626   18    2    5   62  386   12    8  316    8  106    5    4 2223\n",
      " 5244   16  480   66 3785   33    4  130   12   16   38  619    5   25\n",
      "  124   51   36  135   48   25 1415   33    6   22   12  215   28   77\n",
      "   52    5   14  407   16   82    2    8    4  107  117 5952   15  256\n",
      "    4    2    7 3766    5  723   36   71   43  530  476   26  400  317\n",
      "   46    7    4    2 1029   13  104   88    4  381   15  297   98   32\n",
      " 2071   56   26  141    6  194 7486   18    4  226   22   21  134  476\n",
      "   26  480    5  144   30 5535   18   51   36   28  224   92   25  104\n",
      "    4  226   65   16   38 1334   88   12   16  283    5   16 4472  113\n",
      "  103   32   15   16 5345   19  178   32    0    0    0    0    0    0\n",
      "    0    0    0    0    0    0    0    0    0    0    0    0    0    0\n",
      "    0    0    0    0    0    0    0    0    0    0    0    0    0    0\n",
      "    0    0    0    0]\n"
     ]
    }
   ],
   "source": [
    "print(train_data[0])\n"
   ]
  },
  {
   "cell_type": "code",
   "execution_count": 27,
   "metadata": {},
   "outputs": [
    {
     "name": "stdout",
     "output_type": "stream",
     "text": [
      "Model: \"sequential_1\"\n",
      "_________________________________________________________________\n",
      "Layer (type)                 Output Shape              Param #   \n",
      "=================================================================\n",
      "embedding_1 (Embedding)      (None, None, 16)          160000    \n",
      "_________________________________________________________________\n",
      "global_average_pooling1d_1 ( (None, 16)                0         \n",
      "_________________________________________________________________\n",
      "dense_2 (Dense)              (None, 16)                272       \n",
      "_________________________________________________________________\n",
      "dense_3 (Dense)              (None, 1)                 17        \n",
      "=================================================================\n",
      "Total params: 160,289\n",
      "Trainable params: 160,289\n",
      "Non-trainable params: 0\n",
      "_________________________________________________________________\n"
     ]
    }
   ],
   "source": [
    "# input shape is the vocabulary count used for the movie reviews (10,000 words)\n",
    "vocab_size = 10000\n",
    "\n",
    "model = keras.Sequential()\n",
    "model.add(keras.layers.Embedding(vocab_size, 16))\n",
    "model.add(keras.layers.GlobalAveragePooling1D())\n",
    "model.add(keras.layers.Dense(16, activation='relu'))\n",
    "model.add(keras.layers.Dense(1, activation='sigmoid'))\n",
    "\n",
    "model.summary()\n"
   ]
  },
  {
   "cell_type": "code",
   "execution_count": 28,
   "metadata": {},
   "outputs": [],
   "source": [
    "model.compile(optimizer='adam',\n",
    "              loss='binary_crossentropy',\n",
    "              metrics=['accuracy'])\n"
   ]
  },
  {
   "cell_type": "code",
   "execution_count": 29,
   "metadata": {},
   "outputs": [],
   "source": [
    "x_val = train_data[:10000]\n",
    "partial_x_train = train_data[10000:]\n",
    "\n",
    "y_val = train_labels[:10000]\n",
    "partial_y_train = train_labels[10000:]\n"
   ]
  },
  {
   "cell_type": "code",
   "execution_count": 30,
   "metadata": {},
   "outputs": [
    {
     "name": "stdout",
     "output_type": "stream",
     "text": [
      "Train on 15000 samples, validate on 10000 samples\n",
      "Epoch 1/40\n",
      "15000/15000 [==============================] - 2s 106us/sample - loss: 0.6918 - accuracy: 0.5515 - val_loss: 0.6898 - val_accuracy: 0.5980\n",
      "Epoch 2/40\n",
      "15000/15000 [==============================] - 1s 74us/sample - loss: 0.6861 - accuracy: 0.6716 - val_loss: 0.6823 - val_accuracy: 0.6948\n",
      "Epoch 3/40\n",
      "15000/15000 [==============================] - 1s 74us/sample - loss: 0.6742 - accuracy: 0.7282 - val_loss: 0.6672 - val_accuracy: 0.7455\n",
      "Epoch 4/40\n",
      "15000/15000 [==============================] - 1s 74us/sample - loss: 0.6530 - accuracy: 0.7451 - val_loss: 0.6428 - val_accuracy: 0.7639\n",
      "Epoch 5/40\n",
      "15000/15000 [==============================] - 1s 78us/sample - loss: 0.6211 - accuracy: 0.7822 - val_loss: 0.6094 - val_accuracy: 0.7819\n",
      "Epoch 6/40\n",
      "15000/15000 [==============================] - 1s 74us/sample - loss: 0.5802 - accuracy: 0.8072 - val_loss: 0.5699 - val_accuracy: 0.7971\n",
      "Epoch 7/40\n",
      "15000/15000 [==============================] - 1s 76us/sample - loss: 0.5339 - accuracy: 0.8251 - val_loss: 0.5260 - val_accuracy: 0.8185\n",
      "Epoch 8/40\n",
      "15000/15000 [==============================] - 1s 75us/sample - loss: 0.4869 - accuracy: 0.8451 - val_loss: 0.4849 - val_accuracy: 0.8314\n",
      "Epoch 9/40\n",
      "15000/15000 [==============================] - 1s 75us/sample - loss: 0.4426 - accuracy: 0.8578 - val_loss: 0.4474 - val_accuracy: 0.8415\n",
      "Epoch 10/40\n",
      "15000/15000 [==============================] - 1s 75us/sample - loss: 0.4030 - accuracy: 0.8722 - val_loss: 0.4162 - val_accuracy: 0.8506\n",
      "Epoch 11/40\n",
      "15000/15000 [==============================] - 1s 80us/sample - loss: 0.3693 - accuracy: 0.8796 - val_loss: 0.3901 - val_accuracy: 0.8586\n",
      "Epoch 12/40\n",
      "15000/15000 [==============================] - 1s 79us/sample - loss: 0.3407 - accuracy: 0.8885 - val_loss: 0.3703 - val_accuracy: 0.8613\n",
      "Epoch 13/40\n",
      "15000/15000 [==============================] - 1s 76us/sample - loss: 0.3173 - accuracy: 0.8951 - val_loss: 0.3526 - val_accuracy: 0.8677\n",
      "Epoch 14/40\n",
      "15000/15000 [==============================] - 1s 76us/sample - loss: 0.2964 - accuracy: 0.9007 - val_loss: 0.3397 - val_accuracy: 0.8712\n",
      "Epoch 15/40\n",
      "15000/15000 [==============================] - 1s 76us/sample - loss: 0.2790 - accuracy: 0.9049 - val_loss: 0.3287 - val_accuracy: 0.8745\n",
      "Epoch 16/40\n",
      "15000/15000 [==============================] - 1s 83us/sample - loss: 0.2634 - accuracy: 0.9097 - val_loss: 0.3200 - val_accuracy: 0.8749\n",
      "Epoch 17/40\n",
      "15000/15000 [==============================] - 1s 72us/sample - loss: 0.2490 - accuracy: 0.9157 - val_loss: 0.3126 - val_accuracy: 0.8786\n",
      "Epoch 18/40\n",
      "15000/15000 [==============================] - 1s 72us/sample - loss: 0.2364 - accuracy: 0.9195 - val_loss: 0.3062 - val_accuracy: 0.8802\n",
      "Epoch 19/40\n",
      "15000/15000 [==============================] - 1s 71us/sample - loss: 0.2249 - accuracy: 0.9225 - val_loss: 0.3011 - val_accuracy: 0.8815\n",
      "Epoch 20/40\n",
      "15000/15000 [==============================] - 1s 72us/sample - loss: 0.2146 - accuracy: 0.9261 - val_loss: 0.2974 - val_accuracy: 0.8816\n",
      "Epoch 21/40\n",
      "15000/15000 [==============================] - 1s 77us/sample - loss: 0.2042 - accuracy: 0.9317 - val_loss: 0.2944 - val_accuracy: 0.8822\n",
      "Epoch 22/40\n",
      "15000/15000 [==============================] - 1s 76us/sample - loss: 0.1955 - accuracy: 0.9338 - val_loss: 0.2913 - val_accuracy: 0.8839\n",
      "Epoch 23/40\n",
      "15000/15000 [==============================] - 1s 77us/sample - loss: 0.1866 - accuracy: 0.9389 - val_loss: 0.2902 - val_accuracy: 0.8830\n",
      "Epoch 24/40\n",
      "15000/15000 [==============================] - 1s 76us/sample - loss: 0.1790 - accuracy: 0.9424 - val_loss: 0.2887 - val_accuracy: 0.8853\n",
      "Epoch 25/40\n",
      "15000/15000 [==============================] - 1s 74us/sample - loss: 0.1712 - accuracy: 0.9455 - val_loss: 0.2868 - val_accuracy: 0.8843\n",
      "Epoch 26/40\n",
      "15000/15000 [==============================] - 1s 75us/sample - loss: 0.1643 - accuracy: 0.9478 - val_loss: 0.2875 - val_accuracy: 0.8832\n",
      "Epoch 27/40\n",
      "15000/15000 [==============================] - 1s 75us/sample - loss: 0.1577 - accuracy: 0.9503 - val_loss: 0.2867 - val_accuracy: 0.8848\n",
      "Epoch 28/40\n",
      "15000/15000 [==============================] - 1s 74us/sample - loss: 0.1514 - accuracy: 0.9530 - val_loss: 0.2873 - val_accuracy: 0.8858\n",
      "Epoch 29/40\n",
      "15000/15000 [==============================] - 1s 77us/sample - loss: 0.1459 - accuracy: 0.9559 - val_loss: 0.2883 - val_accuracy: 0.8842\n",
      "Epoch 30/40\n",
      "15000/15000 [==============================] - 1s 75us/sample - loss: 0.1401 - accuracy: 0.9577 - val_loss: 0.2879 - val_accuracy: 0.8866\n",
      "Epoch 31/40\n",
      "15000/15000 [==============================] - 1s 74us/sample - loss: 0.1342 - accuracy: 0.9607 - val_loss: 0.2887 - val_accuracy: 0.8858\n",
      "Epoch 32/40\n",
      "15000/15000 [==============================] - 1s 72us/sample - loss: 0.1290 - accuracy: 0.9630 - val_loss: 0.2901 - val_accuracy: 0.8863\n",
      "Epoch 33/40\n",
      "15000/15000 [==============================] - 1s 72us/sample - loss: 0.1239 - accuracy: 0.9647 - val_loss: 0.2922 - val_accuracy: 0.8860\n",
      "Epoch 34/40\n",
      "15000/15000 [==============================] - 1s 78us/sample - loss: 0.1193 - accuracy: 0.9663 - val_loss: 0.2945 - val_accuracy: 0.8855\n",
      "Epoch 35/40\n",
      "15000/15000 [==============================] - 1s 72us/sample - loss: 0.1151 - accuracy: 0.9667 - val_loss: 0.2964 - val_accuracy: 0.8854\n",
      "Epoch 36/40\n",
      "15000/15000 [==============================] - 1s 76us/sample - loss: 0.1106 - accuracy: 0.9693 - val_loss: 0.2981 - val_accuracy: 0.8845\n",
      "Epoch 37/40\n",
      "15000/15000 [==============================] - 1s 73us/sample - loss: 0.1062 - accuracy: 0.9707 - val_loss: 0.3008 - val_accuracy: 0.8843\n",
      "Epoch 38/40\n",
      "15000/15000 [==============================] - 1s 73us/sample - loss: 0.1021 - accuracy: 0.9721 - val_loss: 0.3042 - val_accuracy: 0.8834\n",
      "Epoch 39/40\n",
      "15000/15000 [==============================] - 1s 72us/sample - loss: 0.0990 - accuracy: 0.9733 - val_loss: 0.3078 - val_accuracy: 0.8819\n",
      "Epoch 40/40\n",
      "15000/15000 [==============================] - 1s 75us/sample - loss: 0.0948 - accuracy: 0.9752 - val_loss: 0.3104 - val_accuracy: 0.8832\n"
     ]
    }
   ],
   "source": [
    "history = model.fit(partial_x_train,\n",
    "                    partial_y_train,\n",
    "                    epochs=40,\n",
    "                    batch_size=512,\n",
    "                    validation_data=(x_val, y_val),\n",
    "                    verbose=1)\n"
   ]
  },
  {
   "cell_type": "code",
   "execution_count": 31,
   "metadata": {},
   "outputs": [
    {
     "name": "stdout",
     "output_type": "stream",
     "text": [
      "25000/25000 [==============================] - 1s 36us/sample - loss: 0.3312 - accuracy: 0.8714\n",
      "[0.3311871232318878, 0.87144]\n"
     ]
    }
   ],
   "source": [
    "results = model.evaluate(test_data, test_labels)\n",
    "\n",
    "print(results)\n"
   ]
  },
  {
   "cell_type": "code",
   "execution_count": 32,
   "metadata": {},
   "outputs": [
    {
     "data": {
      "text/plain": [
       "['loss', u'val_accuracy', 'val_loss', u'accuracy']"
      ]
     },
     "execution_count": 32,
     "metadata": {},
     "output_type": "execute_result"
    }
   ],
   "source": [
    "history_dict = history.history\n",
    "history_dict.keys()\n"
   ]
  },
  {
   "cell_type": "code",
   "execution_count": 33,
   "metadata": {},
   "outputs": [
    {
     "data": {
      "text/plain": [
       "<Figure size 640x480 with 1 Axes>"
      ]
     },
     "metadata": {},
     "output_type": "display_data"
    }
   ],
   "source": [
    "import matplotlib.pyplot as plt\n",
    "\n",
    "acc = history_dict['accuracy']\n",
    "val_acc = history_dict['val_accuracy']\n",
    "loss = history_dict['loss']\n",
    "val_loss = history_dict['val_loss']\n",
    "\n",
    "epochs = range(1, len(acc) + 1)\n",
    "\n",
    "# \"bo\" is for \"blue dot\"\n",
    "plt.plot(epochs, loss, 'bo', label='Training loss')\n",
    "# b is for \"solid blue line\"\n",
    "plt.plot(epochs, val_loss, 'b', label='Validation loss')\n",
    "plt.title('Training and validation loss')\n",
    "plt.xlabel('Epochs')\n",
    "plt.ylabel('Loss')\n",
    "plt.legend()\n",
    "\n",
    "plt.show()\n"
   ]
  },
  {
   "cell_type": "code",
   "execution_count": 34,
   "metadata": {},
   "outputs": [
    {
     "data": {
      "image/png": "[encoded data removed]",
      "text/plain": [
       "<Figure size 432x288 with 1 Axes>"
      ]
     },
     "metadata": {
      "needs_background": "light"
     },
     "output_type": "display_data"
    }
   ],
   "source": [
    "plt.clf()   # clear figure\n",
    "\n",
    "plt.plot(epochs, acc, 'bo', label='Training acc')\n",
    "plt.plot(epochs, val_acc, 'b', label='Validation acc')\n",
    "plt.title('Training and validation accuracy')\n",
    "plt.xlabel('Epochs')\n",
    "plt.ylabel('Accuracy')\n",
    "plt.legend()\n",
    "\n",
    "plt.show()\n"
   ]
  },
  {
   "cell_type": "code",
   "execution_count": null,
   "metadata": {},
   "outputs": [],
   "source": []
  }
 ],
 "metadata": {
  "kernelspec": {
   "display_name": "Python 2",
   "language": "python",
   "name": "python2"
  },
  "language_info": {
   "codemirror_mode": {
    "name": "ipython",
    "version": 2
   },
   "file_extension": ".py",
   "mimetype": "text/x-python",
   "name": "python",
   "nbconvert_exporter": "python",
   "pygments_lexer": "ipython2",
   "version": "2.7.9"
  }
 },
 "nbformat": 4,
 "nbformat_minor": 2
}
