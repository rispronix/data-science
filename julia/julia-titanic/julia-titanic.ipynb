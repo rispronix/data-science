{
 "cells": [
  {
   "cell_type": "markdown",
   "metadata": {},
   "source": [
    "## Apply julia-decisiontree to Titanic Dataset\n",
    "\n",
    "- Load dependencies\n",
    "- Load training and test data\n",
    "- Transform data: ignore features cabin, age, and embarked. Normalise gender? Group features?\n",
    "- Create Classifier\n",
    "- Train model\n",
    "- Assess performance: accuracy, overfitting"
   ]
  },
  {
   "cell_type": "code",
   "execution_count": 170,
   "metadata": {},
   "outputs": [
    {
     "name": "stdout",
     "output_type": "stream",
     "text": [
      "\u001b[32m\u001b[1m Resolving\u001b[22m\u001b[39m package versions...\n",
      "\u001b[32m\u001b[1m  Updating\u001b[22m\u001b[39m `/opt/julia/environments/v1.1/Project.toml`\n",
      "\u001b[90m [no changes]\u001b[39m\n",
      "\u001b[32m\u001b[1m  Updating\u001b[22m\u001b[39m `/opt/julia/environments/v1.1/Manifest.toml`\n",
      "\u001b[90m [no changes]\u001b[39m\n",
      "\u001b[32m\u001b[1m Resolving\u001b[22m\u001b[39m package versions...\n",
      "\u001b[32m\u001b[1m  Updating\u001b[22m\u001b[39m `/opt/julia/environments/v1.1/Project.toml`\n",
      "\u001b[90m [no changes]\u001b[39m\n",
      "\u001b[32m\u001b[1m  Updating\u001b[22m\u001b[39m `/opt/julia/environments/v1.1/Manifest.toml`\n",
      "\u001b[90m [no changes]\u001b[39m\n",
      "\u001b[32m\u001b[1m Resolving\u001b[22m\u001b[39m package versions...\n",
      "\u001b[32m\u001b[1m  Updating\u001b[22m\u001b[39m `/opt/julia/environments/v1.1/Project.toml`\n",
      "\u001b[90m [no changes]\u001b[39m\n",
      "\u001b[32m\u001b[1m  Updating\u001b[22m\u001b[39m `/opt/julia/environments/v1.1/Manifest.toml`\n",
      "\u001b[90m [no changes]\u001b[39m\n"
     ]
    }
   ],
   "source": [
    "import Pkg;\n",
    "Pkg.add(\"DataFrames\")\n",
    "Pkg.add(\"CSV\")\n",
    "Pkg.add(\"DecisionTree\")\n",
    "\n",
    "using DataFrames\n",
    "using CSV\n",
    "using DecisionTree"
   ]
  },
  {
   "cell_type": "code",
   "execution_count": 171,
   "metadata": {},
   "outputs": [
    {
     "data": {
      "text/html": [
       "<table class=\"data-frame\"><thead><tr><th></th><th>variable</th><th>mean</th><th>min</th><th>median</th><th>max</th><th>nunique</th><th>nmissing</th><th>eltype</th></tr><tr><th></th><th>Symbol</th><th>Union…</th><th>Any</th><th>Union…</th><th>Any</th><th>Union…</th><th>Int64</th><th>DataType</th></tr></thead><tbody><p>12 rows × 8 columns</p><tr><th>1</th><td>PassengerId</td><td>446.0</td><td>1</td><td>446.0</td><td>891</td><td></td><td>0</td><td>Int64</td></tr><tr><th>2</th><td>Survived</td><td>0.383838</td><td>0</td><td>0.0</td><td>1</td><td></td><td>0</td><td>Int64</td></tr><tr><th>3</th><td>Pclass</td><td>2.30864</td><td>1</td><td>3.0</td><td>3</td><td></td><td>0</td><td>Int64</td></tr><tr><th>4</th><td>Name</td><td></td><td>Abbing, Mr. Anthony</td><td></td><td>van Melkebeke, Mr. Philemon</td><td>891</td><td>0</td><td>String</td></tr><tr><th>5</th><td>Sex</td><td></td><td>female</td><td></td><td>male</td><td>2</td><td>0</td><td>String</td></tr><tr><th>6</th><td>Age</td><td>29.6991</td><td>0.42</td><td>28.0</td><td>80.0</td><td></td><td>177</td><td>Float64</td></tr><tr><th>7</th><td>SibSp</td><td>0.523008</td><td>0</td><td>0.0</td><td>8</td><td></td><td>0</td><td>Int64</td></tr><tr><th>8</th><td>Parch</td><td>0.381594</td><td>0</td><td>0.0</td><td>6</td><td></td><td>0</td><td>Int64</td></tr><tr><th>9</th><td>Ticket</td><td></td><td>110152</td><td></td><td>WE/P 5735</td><td>681</td><td>0</td><td>String</td></tr><tr><th>10</th><td>Fare</td><td>32.2042</td><td>0.0</td><td>14.4542</td><td>512.329</td><td></td><td>0</td><td>Float64</td></tr><tr><th>11</th><td>Cabin</td><td></td><td>A10</td><td></td><td>T</td><td>147</td><td>687</td><td>String</td></tr><tr><th>12</th><td>Embarked</td><td></td><td>C</td><td></td><td>S</td><td>3</td><td>2</td><td>String</td></tr></tbody></table>"
      ],
      "text/latex": [
       "\\begin{tabular}{r|cccccccc}\n",
       "\t& variable & mean & min & median & max & nunique & nmissing & eltype\\\\\n",
       "\t\\hline\n",
       "\t& Symbol & Union… & Any & Union… & Any & Union… & Int64 & DataType\\\\\n",
       "\t\\hline\n",
       "\t1 & PassengerId & 446.0 & 1 & 446.0 & 891 &  & 0 & Int64 \\\\\n",
       "\t2 & Survived & 0.383838 & 0 & 0.0 & 1 &  & 0 & Int64 \\\\\n",
       "\t3 & Pclass & 2.30864 & 1 & 3.0 & 3 &  & 0 & Int64 \\\\\n",
       "\t4 & Name &  & Abbing, Mr. Anthony &  & van Melkebeke, Mr. Philemon & 891 & 0 & String \\\\\n",
       "\t5 & Sex &  & female &  & male & 2 & 0 & String \\\\\n",
       "\t6 & Age & 29.6991 & 0.42 & 28.0 & 80.0 &  & 177 & Float64 \\\\\n",
       "\t7 & SibSp & 0.523008 & 0 & 0.0 & 8 &  & 0 & Int64 \\\\\n",
       "\t8 & Parch & 0.381594 & 0 & 0.0 & 6 &  & 0 & Int64 \\\\\n",
       "\t9 & Ticket &  & 110152 &  & WE/P 5735 & 681 & 0 & String \\\\\n",
       "\t10 & Fare & 32.2042 & 0.0 & 14.4542 & 512.329 &  & 0 & Float64 \\\\\n",
       "\t11 & Cabin &  & A10 &  & T & 147 & 687 & String \\\\\n",
       "\t12 & Embarked &  & C &  & S & 3 & 2 & String \\\\\n",
       "\\end{tabular}\n"
      ],
      "text/plain": [
       "12×8 DataFrame. Omitted printing of 4 columns\n",
       "│ Row │ variable    │ mean     │ min                 │ median  │\n",
       "│     │ \u001b[90mSymbol\u001b[39m      │ \u001b[90mUnion…\u001b[39m   │ \u001b[90mAny\u001b[39m                 │ \u001b[90mUnion…\u001b[39m  │\n",
       "├─────┼─────────────┼──────────┼─────────────────────┼─────────┤\n",
       "│ 1   │ PassengerId │ 446.0    │ 1                   │ 446.0   │\n",
       "│ 2   │ Survived    │ 0.383838 │ 0                   │ 0.0     │\n",
       "│ 3   │ Pclass      │ 2.30864  │ 1                   │ 3.0     │\n",
       "│ 4   │ Name        │          │ Abbing, Mr. Anthony │         │\n",
       "│ 5   │ Sex         │          │ female              │         │\n",
       "│ 6   │ Age         │ 29.6991  │ 0.42                │ 28.0    │\n",
       "│ 7   │ SibSp       │ 0.523008 │ 0                   │ 0.0     │\n",
       "│ 8   │ Parch       │ 0.381594 │ 0                   │ 0.0     │\n",
       "│ 9   │ Ticket      │          │ 110152              │         │\n",
       "│ 10  │ Fare        │ 32.2042  │ 0.0                 │ 14.4542 │\n",
       "│ 11  │ Cabin       │          │ A10                 │         │\n",
       "│ 12  │ Embarked    │          │ C                   │         │"
      ]
     },
     "execution_count": 171,
     "metadata": {},
     "output_type": "execute_result"
    }
   ],
   "source": [
    "train = CSV.read(\"data/train.csv\")\n",
    "test = CSV.read(\"data/test.csv\")\n",
    "describe(train)"
   ]
  },
  {
   "cell_type": "code",
   "execution_count": 172,
   "metadata": {},
   "outputs": [
    {
     "data": {
      "text/html": [
       "<table class=\"data-frame\"><thead><tr><th></th><th>PassengerId</th><th>Survived</th><th>Pclass</th><th>Name</th><th>Sex</th><th>Age</th><th>SibSp</th><th>Parch</th><th>Ticket</th><th>Fare</th><th>Cabin</th><th>Embarked</th></tr><tr><th></th><th>Int64⍰</th><th>Int64⍰</th><th>Int64⍰</th><th>String⍰</th><th>String⍰</th><th>Float64⍰</th><th>Int64⍰</th><th>Int64⍰</th><th>String⍰</th><th>Float64⍰</th><th>String⍰</th><th>String⍰</th></tr></thead><tbody><p>5 rows × 12 columns</p><tr><th>1</th><td>1</td><td>0</td><td>3</td><td>Braund, Mr. Owen Harris</td><td>male</td><td>22.0</td><td>1</td><td>0</td><td>A/5 21171</td><td>7.25</td><td>missing</td><td>S</td></tr><tr><th>2</th><td>2</td><td>1</td><td>1</td><td>Cumings, Mrs. John Bradley (Florence Briggs Thayer)</td><td>female</td><td>38.0</td><td>1</td><td>0</td><td>PC 17599</td><td>71.2833</td><td>C85</td><td>C</td></tr><tr><th>3</th><td>3</td><td>1</td><td>3</td><td>Heikkinen, Miss. Laina</td><td>female</td><td>26.0</td><td>0</td><td>0</td><td>STON/O2. 3101282</td><td>7.925</td><td>missing</td><td>S</td></tr><tr><th>4</th><td>4</td><td>1</td><td>1</td><td>Futrelle, Mrs. Jacques Heath (Lily May Peel)</td><td>female</td><td>35.0</td><td>1</td><td>0</td><td>113803</td><td>53.1</td><td>C123</td><td>S</td></tr><tr><th>5</th><td>5</td><td>0</td><td>3</td><td>Allen, Mr. William Henry</td><td>male</td><td>35.0</td><td>0</td><td>0</td><td>373450</td><td>8.05</td><td>missing</td><td>S</td></tr></tbody></table>"
      ],
      "text/latex": [
       "\\begin{tabular}{r|cccccccccccc}\n",
       "\t& PassengerId & Survived & Pclass & Name & Sex & Age & SibSp & Parch & Ticket & Fare & Cabin & Embarked\\\\\n",
       "\t\\hline\n",
       "\t& Int64⍰ & Int64⍰ & Int64⍰ & String⍰ & String⍰ & Float64⍰ & Int64⍰ & Int64⍰ & String⍰ & Float64⍰ & String⍰ & String⍰\\\\\n",
       "\t\\hline\n",
       "\t1 & 1 & 0 & 3 & Braund, Mr. Owen Harris & male & 22.0 & 1 & 0 & A/5 21171 & 7.25 &  & S \\\\\n",
       "\t2 & 2 & 1 & 1 & Cumings, Mrs. John Bradley (Florence Briggs Thayer) & female & 38.0 & 1 & 0 & PC 17599 & 71.2833 & C85 & C \\\\\n",
       "\t3 & 3 & 1 & 3 & Heikkinen, Miss. Laina & female & 26.0 & 0 & 0 & STON/O2. 3101282 & 7.925 &  & S \\\\\n",
       "\t4 & 4 & 1 & 1 & Futrelle, Mrs. Jacques Heath (Lily May Peel) & female & 35.0 & 1 & 0 & 113803 & 53.1 & C123 & S \\\\\n",
       "\t5 & 5 & 0 & 3 & Allen, Mr. William Henry & male & 35.0 & 0 & 0 & 373450 & 8.05 &  & S \\\\\n",
       "\\end{tabular}\n"
      ],
      "text/plain": [
       "5×12 DataFrame. Omitted printing of 9 columns\n",
       "│ Row │ PassengerId │ Survived │ Pclass │\n",
       "│     │ \u001b[90mInt64⍰\u001b[39m      │ \u001b[90mInt64⍰\u001b[39m   │ \u001b[90mInt64⍰\u001b[39m │\n",
       "├─────┼─────────────┼──────────┼────────┤\n",
       "│ 1   │ 1           │ 0        │ 3      │\n",
       "│ 2   │ 2           │ 1        │ 1      │\n",
       "│ 3   │ 3           │ 1        │ 3      │\n",
       "│ 4   │ 4           │ 1        │ 1      │\n",
       "│ 5   │ 5           │ 0        │ 3      │"
      ]
     },
     "execution_count": 172,
     "metadata": {},
     "output_type": "execute_result"
    }
   ],
   "source": [
    "first(train, 5)\n"
   ]
  },
  {
   "cell_type": "code",
   "execution_count": 173,
   "metadata": {},
   "outputs": [
    {
     "data": {
      "text/html": [
       "<table class=\"data-frame\"><thead><tr><th></th><th>Pclass</th><th>Sex</th><th>SibSp</th><th>Parch</th><th>Fare</th><th>Survived</th></tr><tr><th></th><th>Int64⍰</th><th>String⍰</th><th>Int64⍰</th><th>Int64⍰</th><th>Float64⍰</th><th>Int64⍰</th></tr></thead><tbody><p>5 rows × 6 columns</p><tr><th>1</th><td>3</td><td>male</td><td>1</td><td>0</td><td>7.25</td><td>0</td></tr><tr><th>2</th><td>1</td><td>female</td><td>1</td><td>0</td><td>71.2833</td><td>1</td></tr><tr><th>3</th><td>3</td><td>female</td><td>0</td><td>0</td><td>7.925</td><td>1</td></tr><tr><th>4</th><td>1</td><td>female</td><td>1</td><td>0</td><td>53.1</td><td>1</td></tr><tr><th>5</th><td>3</td><td>male</td><td>0</td><td>0</td><td>8.05</td><td>0</td></tr></tbody></table>"
      ],
      "text/latex": [
       "\\begin{tabular}{r|cccccc}\n",
       "\t& Pclass & Sex & SibSp & Parch & Fare & Survived\\\\\n",
       "\t\\hline\n",
       "\t& Int64⍰ & String⍰ & Int64⍰ & Int64⍰ & Float64⍰ & Int64⍰\\\\\n",
       "\t\\hline\n",
       "\t1 & 3 & male & 1 & 0 & 7.25 & 0 \\\\\n",
       "\t2 & 1 & female & 1 & 0 & 71.2833 & 1 \\\\\n",
       "\t3 & 3 & female & 0 & 0 & 7.925 & 1 \\\\\n",
       "\t4 & 1 & female & 1 & 0 & 53.1 & 1 \\\\\n",
       "\t5 & 3 & male & 0 & 0 & 8.05 & 0 \\\\\n",
       "\\end{tabular}\n"
      ],
      "text/plain": [
       "5×6 DataFrame\n",
       "│ Row │ Pclass │ Sex     │ SibSp  │ Parch  │ Fare     │ Survived │\n",
       "│     │ \u001b[90mInt64⍰\u001b[39m │ \u001b[90mString⍰\u001b[39m │ \u001b[90mInt64⍰\u001b[39m │ \u001b[90mInt64⍰\u001b[39m │ \u001b[90mFloat64⍰\u001b[39m │ \u001b[90mInt64⍰\u001b[39m   │\n",
       "├─────┼────────┼─────────┼────────┼────────┼──────────┼──────────┤\n",
       "│ 1   │ 3      │ male    │ 1      │ 0      │ 7.25     │ 0        │\n",
       "│ 2   │ 1      │ female  │ 1      │ 0      │ 71.2833  │ 1        │\n",
       "│ 3   │ 3      │ female  │ 0      │ 0      │ 7.925    │ 1        │\n",
       "│ 4   │ 1      │ female  │ 1      │ 0      │ 53.1     │ 1        │\n",
       "│ 5   │ 3      │ male    │ 0      │ 0      │ 8.05     │ 0        │"
      ]
     },
     "execution_count": 173,
     "metadata": {},
     "output_type": "execute_result"
    }
   ],
   "source": [
    "df = train[:,[:Pclass, :Sex, :SibSp, :Parch, :Fare, :Survived]]\n",
    "\n",
    "\n",
    "first(df, 5)"
   ]
  },
  {
   "cell_type": "code",
   "execution_count": 174,
   "metadata": {},
   "outputs": [
    {
     "data": {
      "text/html": [
       "<table class=\"data-frame\"><thead><tr><th></th><th>Pclass</th><th>SibSp</th><th>Parch</th><th>Fare</th><th>Survived</th></tr><tr><th></th><th>Int64⍰</th><th>Int64⍰</th><th>Int64⍰</th><th>Float64⍰</th><th>Int64⍰</th></tr></thead><tbody><p>5 rows × 5 columns</p><tr><th>1</th><td>3</td><td>1</td><td>0</td><td>7.25</td><td>0</td></tr><tr><th>2</th><td>1</td><td>1</td><td>0</td><td>71.2833</td><td>1</td></tr><tr><th>3</th><td>3</td><td>0</td><td>0</td><td>7.925</td><td>1</td></tr><tr><th>4</th><td>1</td><td>1</td><td>0</td><td>53.1</td><td>1</td></tr><tr><th>5</th><td>3</td><td>0</td><td>0</td><td>8.05</td><td>0</td></tr></tbody></table>"
      ],
      "text/latex": [
       "\\begin{tabular}{r|ccccc}\n",
       "\t& Pclass & SibSp & Parch & Fare & Survived\\\\\n",
       "\t\\hline\n",
       "\t& Int64⍰ & Int64⍰ & Int64⍰ & Float64⍰ & Int64⍰\\\\\n",
       "\t\\hline\n",
       "\t1 & 3 & 1 & 0 & 7.25 & 0 \\\\\n",
       "\t2 & 1 & 1 & 0 & 71.2833 & 1 \\\\\n",
       "\t3 & 3 & 0 & 0 & 7.925 & 1 \\\\\n",
       "\t4 & 1 & 1 & 0 & 53.1 & 1 \\\\\n",
       "\t5 & 3 & 0 & 0 & 8.05 & 0 \\\\\n",
       "\\end{tabular}\n"
      ],
      "text/plain": [
       "5×5 DataFrame\n",
       "│ Row │ Pclass │ SibSp  │ Parch  │ Fare     │ Survived │\n",
       "│     │ \u001b[90mInt64⍰\u001b[39m │ \u001b[90mInt64⍰\u001b[39m │ \u001b[90mInt64⍰\u001b[39m │ \u001b[90mFloat64⍰\u001b[39m │ \u001b[90mInt64⍰\u001b[39m   │\n",
       "├─────┼────────┼────────┼────────┼──────────┼──────────┤\n",
       "│ 1   │ 3      │ 1      │ 0      │ 7.25     │ 0        │\n",
       "│ 2   │ 1      │ 1      │ 0      │ 71.2833  │ 1        │\n",
       "│ 3   │ 3      │ 0      │ 0      │ 7.925    │ 1        │\n",
       "│ 4   │ 1      │ 1      │ 0      │ 53.1     │ 1        │\n",
       "│ 5   │ 3      │ 0      │ 0      │ 8.05     │ 0        │"
      ]
     },
     "execution_count": 174,
     "metadata": {},
     "output_type": "execute_result"
    }
   ],
   "source": [
    "function normaliseGender(x)\n",
    "    if (x == \"male\")\n",
    "        1\n",
    "    else\n",
    "        0\n",
    "    end\n",
    "end\n",
    "\n",
    "#df[:normalised_gender] = map(normaliseGender, df[:Sex])\n",
    "\n",
    "deletecols!(df, :Sex)\n",
    "\n",
    "first(df, 5)"
   ]
  },
  {
   "cell_type": "code",
   "execution_count": 175,
   "metadata": {},
   "outputs": [
    {
     "data": {
      "text/plain": [
       "5-element Array{Union,1}:\n",
       " Union{Missing, Int64}  \n",
       " Union{Missing, Int64}  \n",
       " Union{Missing, Int64}  \n",
       " Union{Missing, Float64}\n",
       " Union{Missing, Int64}  "
      ]
     },
     "execution_count": 175,
     "metadata": {},
     "output_type": "execute_result"
    }
   ],
   "source": [
    "colwise(eltype, df)"
   ]
  },
  {
   "cell_type": "code",
   "execution_count": 176,
   "metadata": {},
   "outputs": [
    {
     "data": {
      "text/html": [
       "<table class=\"data-frame\"><thead><tr><th></th><th>variable</th><th>mean</th><th>min</th><th>median</th><th>max</th><th>nunique</th><th>nmissing</th><th>eltype</th></tr><tr><th></th><th>Symbol</th><th>Float64</th><th>Real</th><th>Float64</th><th>Real</th><th>Nothing</th><th>Int64</th><th>DataType</th></tr></thead><tbody><p>5 rows × 8 columns</p><tr><th>1</th><td>Pclass</td><td>2.30864</td><td>1</td><td>3.0</td><td>3</td><td></td><td>0</td><td>Int64</td></tr><tr><th>2</th><td>SibSp</td><td>0.523008</td><td>0</td><td>0.0</td><td>8</td><td></td><td>0</td><td>Int64</td></tr><tr><th>3</th><td>Parch</td><td>0.381594</td><td>0</td><td>0.0</td><td>6</td><td></td><td>0</td><td>Int64</td></tr><tr><th>4</th><td>Fare</td><td>32.2042</td><td>0.0</td><td>14.4542</td><td>512.329</td><td></td><td>0</td><td>Float64</td></tr><tr><th>5</th><td>Survived</td><td>0.383838</td><td>0</td><td>0.0</td><td>1</td><td></td><td>0</td><td>Int64</td></tr></tbody></table>"
      ],
      "text/latex": [
       "\\begin{tabular}{r|cccccccc}\n",
       "\t& variable & mean & min & median & max & nunique & nmissing & eltype\\\\\n",
       "\t\\hline\n",
       "\t& Symbol & Float64 & Real & Float64 & Real & Nothing & Int64 & DataType\\\\\n",
       "\t\\hline\n",
       "\t1 & Pclass & 2.30864 & 1 & 3.0 & 3 &  & 0 & Int64 \\\\\n",
       "\t2 & SibSp & 0.523008 & 0 & 0.0 & 8 &  & 0 & Int64 \\\\\n",
       "\t3 & Parch & 0.381594 & 0 & 0.0 & 6 &  & 0 & Int64 \\\\\n",
       "\t4 & Fare & 32.2042 & 0.0 & 14.4542 & 512.329 &  & 0 & Float64 \\\\\n",
       "\t5 & Survived & 0.383838 & 0 & 0.0 & 1 &  & 0 & Int64 \\\\\n",
       "\\end{tabular}\n"
      ],
      "text/plain": [
       "5×8 DataFrame. Omitted printing of 1 columns\n",
       "│ Row │ variable │ mean     │ min  │ median  │ max     │ nunique │ nmissing │\n",
       "│     │ \u001b[90mSymbol\u001b[39m   │ \u001b[90mFloat64\u001b[39m  │ \u001b[90mReal\u001b[39m │ \u001b[90mFloat64\u001b[39m │ \u001b[90mReal\u001b[39m    │ \u001b[90mNothing\u001b[39m │ \u001b[90mInt64\u001b[39m    │\n",
       "├─────┼──────────┼──────────┼──────┼─────────┼─────────┼─────────┼──────────┤\n",
       "│ 1   │ Pclass   │ 2.30864  │ 1    │ 3.0     │ 3       │         │ 0        │\n",
       "│ 2   │ SibSp    │ 0.523008 │ 0    │ 0.0     │ 8       │         │ 0        │\n",
       "│ 3   │ Parch    │ 0.381594 │ 0    │ 0.0     │ 6       │         │ 0        │\n",
       "│ 4   │ Fare     │ 32.2042  │ 0.0  │ 14.4542 │ 512.329 │         │ 0        │\n",
       "│ 5   │ Survived │ 0.383838 │ 0    │ 0.0     │ 1       │         │ 0        │"
      ]
     },
     "execution_count": 176,
     "metadata": {},
     "output_type": "execute_result"
    }
   ],
   "source": [
    "describe(df)"
   ]
  },
  {
   "cell_type": "code",
   "execution_count": 177,
   "metadata": {},
   "outputs": [
    {
     "data": {
      "text/plain": [
       "5-element Array{DataType,1}:\n",
       " Int64\n",
       " Int64\n",
       " Int64\n",
       " Int64\n",
       " Int64"
      ]
     },
     "execution_count": 177,
     "metadata": {},
     "output_type": "execute_result"
    }
   ],
   "source": [
    "dropmissing!(df)\n",
    "#describe(df)\n",
    "\n",
    "df[:Pclass] = convert(Array{Int64,1},df[:Pclass])\n",
    "df[:SibSp] = convert(Array{Int64,1},df[:SibSp])\n",
    "df[:Parch] = convert(Array{Int64,1},df[:Parch])\n",
    "df[:Survived] = convert(Array{Int64,1},df[:Survived])\n",
    "\n",
    "df[:Floored_fare] = map(floor, df[:Fare])\n",
    "df[:Floored_fare] = convert(Array{Int64,1},df[:Floored_fare])\n",
    "deletecols!(df, :Fare)\n",
    "\n",
    "\n",
    "colwise(eltype, df)\n",
    "#describe(df)"
   ]
  },
  {
   "cell_type": "code",
   "execution_count": 178,
   "metadata": {},
   "outputs": [
    {
     "data": {
      "text/plain": [
       "891-element Array{Int64,1}:\n",
       " 0\n",
       " 1\n",
       " 1\n",
       " 1\n",
       " 0\n",
       " 0\n",
       " 0\n",
       " 0\n",
       " 1\n",
       " 1\n",
       " 1\n",
       " 1\n",
       " 0\n",
       " ⋮\n",
       " 1\n",
       " 1\n",
       " 0\n",
       " 0\n",
       " 0\n",
       " 0\n",
       " 0\n",
       " 0\n",
       " 1\n",
       " 0\n",
       " 1\n",
       " 0"
      ]
     },
     "execution_count": 178,
     "metadata": {},
     "output_type": "execute_result"
    }
   ],
   "source": [
    "features = convert(Matrix, df[[:Pclass, :SibSp, :Parch, :Floored_fare]])\n",
    "label = convert(Array, df[:Survived])"
   ]
  },
  {
   "cell_type": "code",
   "execution_count": 179,
   "metadata": {},
   "outputs": [
    {
     "data": {
      "text/plain": [
       "2×2 Array{Int64,2}:\n",
       " 172  19\n",
       "  37  69"
      ]
     },
     "metadata": {},
     "output_type": "display_data"
    },
    {
     "name": "stdout",
     "output_type": "stream",
     "text": [
      "\n",
      "Fold 1\n",
      "Classes:  [0, 1]\n",
      "Matrix:   \n",
      "Accuracy: 0.8114478114478114\n",
      "Kappa:    0.5731225296442687\n"
     ]
    },
    {
     "data": {
      "text/plain": [
       "2×2 Array{Int64,2}:\n",
       " 166  11\n",
       "  50  70"
      ]
     },
     "metadata": {},
     "output_type": "display_data"
    },
    {
     "data": {
      "text/plain": [
       "2×2 Array{Int64,2}:\n",
       " 167  14\n",
       "  47  69"
      ]
     },
     "metadata": {},
     "output_type": "display_data"
    },
    {
     "name": "stdout",
     "output_type": "stream",
     "text": [
      "\n",
      "Fold 2\n",
      "Classes:  [0, 1]\n",
      "Matrix:   \n",
      "Accuracy: 0.7946127946127947\n",
      "Kappa:    0.5499664654594233\n",
      "\n",
      "Fold 3\n",
      "Classes:  [0, 1]\n",
      "Matrix:   \n",
      "Accuracy: 0.7946127946127947\n",
      "Kappa:    0.5453359098551962\n",
      "\n",
      "Mean Accuracy: 0.8002244668911335\n"
     ]
    },
    {
     "data": {
      "text/plain": [
       "3-element Array{Float64,1}:\n",
       " 0.8114478114478114\n",
       " 0.7946127946127947\n",
       " 0.7946127946127947"
      ]
     },
     "execution_count": 179,
     "metadata": {},
     "output_type": "execute_result"
    }
   ],
   "source": [
    "\n",
    "\n",
    "n_subfeatures=0; max_depth=-1; min_samples_leaf=1; min_samples_split=2\n",
    "min_purity_increase=0.0; pruning_purity = 1.0\n",
    "\n",
    "model    =   build_tree(label, features,\n",
    "                        n_subfeatures,\n",
    "                        max_depth,\n",
    "                        min_samples_leaf,\n",
    "                        min_samples_split,\n",
    "                        min_purity_increase)\n",
    "\n",
    "n_folds = 3\n",
    "accuracy = nfoldCV_tree(label, features,\n",
    "                        n_folds,\n",
    "                        pruning_purity,\n",
    "                        max_depth,\n",
    "                        min_samples_leaf,\n",
    "                        min_samples_split,\n",
    "                        min_purity_increase)"
   ]
  },
  {
   "cell_type": "code",
   "execution_count": 181,
   "metadata": {},
   "outputs": [
    {
     "data": {
      "text/plain": [
       "2×2 Array{Int64,2}:\n",
       " 163  16\n",
       "  50  68"
      ]
     },
     "metadata": {},
     "output_type": "display_data"
    },
    {
     "data": {
      "text/plain": [
       "2×2 Array{Int64,2}:\n",
       " 165  16\n",
       "  61  55"
      ]
     },
     "metadata": {},
     "output_type": "display_data"
    },
    {
     "data": {
      "text/plain": [
       "2×2 Array{Int64,2}:\n",
       " 162  27\n",
       "  48  60"
      ]
     },
     "metadata": {},
     "output_type": "display_data"
    },
    {
     "name": "stdout",
     "output_type": "stream",
     "text": [
      "\n",
      "Fold 1\n",
      "Classes:  [0, 1]\n",
      "Matrix:   \n",
      "Accuracy: 0.7777777777777778\n",
      "Kappa:    0.5120238984316654\n",
      "\n",
      "Fold 2\n",
      "Classes:  [0, 1]\n",
      "Matrix:   \n",
      "Accuracy: 0.7407407407407407\n",
      "Kappa:    0.4146210356566922\n",
      "\n",
      "Fold 3\n",
      "Classes:  [0, 1]\n",
      "Matrix:   \n",
      "Accuracy: 0.7474747474747475\n",
      "Kappa:    0.4306418219461699\n",
      "\n",
      "Mean Accuracy: 0.755331088664422\n"
     ]
    },
    {
     "data": {
      "text/plain": [
       "3-element Array{Float64,1}:\n",
       " 0.7777777777777778\n",
       " 0.7407407407407407\n",
       " 0.7474747474747475"
      ]
     },
     "execution_count": 181,
     "metadata": {},
     "output_type": "execute_result"
    }
   ],
   "source": [
    "n_folds=3; n_subfeatures=2\n",
    "\n",
    "n_subfeatures=-1; n_trees=10; partial_sampling=0.7; max_depth=-1\n",
    "min_samples_leaf=5; min_samples_split=2; min_purity_increase=0.0\n",
    "\n",
    "model    =   build_forest(label, features,\n",
    "                          n_subfeatures,\n",
    "                          n_trees,\n",
    "                          partial_sampling,\n",
    "                          max_depth,\n",
    "                          min_samples_leaf,\n",
    "                          min_samples_split,\n",
    "                          min_purity_increase)\n",
    "\n",
    "accuracy = nfoldCV_forest(label, features,\n",
    "                          n_folds,\n",
    "                          n_subfeatures,\n",
    "                          n_trees,\n",
    "                          partial_sampling,\n",
    "                          max_depth,\n",
    "                          min_samples_leaf,\n",
    "                          min_samples_split,\n",
    "                          min_purity_increase)"
   ]
  }
 ],
 "metadata": {
  "kernelspec": {
   "display_name": "Julia 1.1.0",
   "language": "julia",
   "name": "julia-1.1"
  },
  "language_info": {
   "file_extension": ".jl",
   "mimetype": "application/julia",
   "name": "julia",
   "version": "1.1.0"
  }
 },
 "nbformat": 4,
 "nbformat_minor": 2
}
