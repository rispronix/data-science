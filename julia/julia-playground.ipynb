{
 "cells": [
  {
   "cell_type": "code",
   "execution_count": 2,
   "metadata": {},
   "outputs": [
    {
     "data": {
      "text/html": [
       "<table class=\"data-frame\"><thead><tr><th></th><th>a</th><th>b</th><th>c</th><th>d</th></tr><tr><th></th><th>Int64⍰</th><th>Int64⍰</th><th>Int64⍰</th><th>Int64⍰</th></tr></thead><tbody><p>3 rows × 4 columns</p><tr><th>1</th><td>1</td><td>2</td><td>3</td><td>4</td></tr><tr><th>2</th><td>10</td><td>20</td><td>30</td><td>40</td></tr><tr><th>3</th><td>100</td><td>missing</td><td>200</td><td>300</td></tr></tbody></table>"
      ],
      "text/latex": [
       "\\begin{tabular}{r|cccc}\n",
       "\t& a & b & c & d\\\\\n",
       "\t\\hline\n",
       "\t& Int64⍰ & Int64⍰ & Int64⍰ & Int64⍰\\\\\n",
       "\t\\hline\n",
       "\t1 & 1 & 2 & 3 & 4 \\\\\n",
       "\t2 & 10 & 20 & 30 & 40 \\\\\n",
       "\t3 & 100 &  & 200 & 300 \\\\\n",
       "\\end{tabular}\n"
      ],
      "text/plain": [
       "3×4 DataFrame\n",
       "│ Row │ a      │ b       │ c      │ d      │\n",
       "│     │ \u001b[90mInt64⍰\u001b[39m │ \u001b[90mInt64⍰\u001b[39m  │ \u001b[90mInt64⍰\u001b[39m │ \u001b[90mInt64⍰\u001b[39m │\n",
       "├─────┼────────┼─────────┼────────┼────────┤\n",
       "│ 1   │ 1      │ 2       │ 3      │ 4      │\n",
       "│ 2   │ 10     │ 20      │ 30     │ 40     │\n",
       "│ 3   │ 100    │ \u001b[90mmissing\u001b[39m │ 200    │ 300    │"
      ]
     },
     "execution_count": 2,
     "metadata": {},
     "output_type": "execute_result"
    }
   ],
   "source": [
    "using DataFrames\n",
    "using CSV\n",
    "\n",
    "df = CSV.read(IOBuffer(\"\"\"\n",
    "a,b,c,d\n",
    "1,2,3,4\n",
    "10,20,30,40\n",
    "100,,200,300        \n",
    "\"\"\"),delim=\",\")"
   ]
  },
  {
   "cell_type": "code",
   "execution_count": 3,
   "metadata": {},
   "outputs": [
    {
     "data": {
      "text/html": [
       "<table class=\"data-frame\"><thead><tr><th></th><th>variable</th><th>mean</th><th>min</th><th>median</th><th>max</th><th>nunique</th><th>nmissing</th><th>eltype</th></tr><tr><th></th><th>Symbol</th><th>Float64</th><th>Int64</th><th>Float64</th><th>Int64</th><th>Nothing</th><th>Int64</th><th>DataType</th></tr></thead><tbody><p>4 rows × 8 columns</p><tr><th>1</th><td>a</td><td>37.0</td><td>1</td><td>10.0</td><td>100</td><td></td><td>0</td><td>Int64</td></tr><tr><th>2</th><td>b</td><td>11.0</td><td>2</td><td>11.0</td><td>20</td><td></td><td>1</td><td>Int64</td></tr><tr><th>3</th><td>c</td><td>77.6667</td><td>3</td><td>30.0</td><td>200</td><td></td><td>0</td><td>Int64</td></tr><tr><th>4</th><td>d</td><td>114.667</td><td>4</td><td>40.0</td><td>300</td><td></td><td>0</td><td>Int64</td></tr></tbody></table>"
      ],
      "text/latex": [
       "\\begin{tabular}{r|cccccccc}\n",
       "\t& variable & mean & min & median & max & nunique & nmissing & eltype\\\\\n",
       "\t\\hline\n",
       "\t& Symbol & Float64 & Int64 & Float64 & Int64 & Nothing & Int64 & DataType\\\\\n",
       "\t\\hline\n",
       "\t1 & a & 37.0 & 1 & 10.0 & 100 &  & 0 & Int64 \\\\\n",
       "\t2 & b & 11.0 & 2 & 11.0 & 20 &  & 1 & Int64 \\\\\n",
       "\t3 & c & 77.6667 & 3 & 30.0 & 200 &  & 0 & Int64 \\\\\n",
       "\t4 & d & 114.667 & 4 & 40.0 & 300 &  & 0 & Int64 \\\\\n",
       "\\end{tabular}\n"
      ],
      "text/plain": [
       "4×8 DataFrame. Omitted printing of 1 columns\n",
       "│ Row │ variable │ mean    │ min   │ median  │ max   │ nunique │ nmissing │\n",
       "│     │ \u001b[90mSymbol\u001b[39m   │ \u001b[90mFloat64\u001b[39m │ \u001b[90mInt64\u001b[39m │ \u001b[90mFloat64\u001b[39m │ \u001b[90mInt64\u001b[39m │ \u001b[90mNothing\u001b[39m │ \u001b[90mInt64\u001b[39m    │\n",
       "├─────┼──────────┼─────────┼───────┼─────────┼───────┼─────────┼──────────┤\n",
       "│ 1   │ a        │ 37.0    │ 1     │ 10.0    │ 100   │         │ 0        │\n",
       "│ 2   │ b        │ 11.0    │ 2     │ 11.0    │ 20    │         │ 1        │\n",
       "│ 3   │ c        │ 77.6667 │ 3     │ 30.0    │ 200   │         │ 0        │\n",
       "│ 4   │ d        │ 114.667 │ 4     │ 40.0    │ 300   │         │ 0        │"
      ]
     },
     "execution_count": 3,
     "metadata": {},
     "output_type": "execute_result"
    }
   ],
   "source": [
    "describe(df)"
   ]
  },
  {
   "cell_type": "code",
   "execution_count": 5,
   "metadata": {},
   "outputs": [
    {
     "data": {
      "text/plain": [
       "4-element Array{Union,1}:\n",
       " Union{Missing, Int64}\n",
       " Union{Missing, Int64}\n",
       " Union{Missing, Int64}\n",
       " Union{Missing, Int64}"
      ]
     },
     "execution_count": 5,
     "metadata": {},
     "output_type": "execute_result"
    }
   ],
   "source": [
    "colwise(eltype, df)"
   ]
  },
  {
   "cell_type": "code",
   "execution_count": 7,
   "metadata": {},
   "outputs": [
    {
     "data": {
      "text/plain": [
       "3-element Array{Int64,1}:\n",
       "   1\n",
       "  10\n",
       " 100"
      ]
     },
     "execution_count": 7,
     "metadata": {},
     "output_type": "execute_result"
    }
   ],
   "source": [
    "df[:a] = convert(Array{Int64,1},df[:a])"
   ]
  },
  {
   "cell_type": "code",
   "execution_count": 8,
   "metadata": {},
   "outputs": [
    {
     "data": {
      "text/plain": [
       "4-element Array{Type,1}:\n",
       " Int64                \n",
       " Union{Missing, Int64}\n",
       " Union{Missing, Int64}\n",
       " Union{Missing, Int64}"
      ]
     },
     "execution_count": 8,
     "metadata": {},
     "output_type": "execute_result"
    }
   ],
   "source": [
    "colwise(eltype, df)"
   ]
  },
  {
   "cell_type": "code",
   "execution_count": 12,
   "metadata": {},
   "outputs": [
    {
     "name": "stderr",
     "output_type": "stream",
     "text": [
      "┌ Warning: dropmissing! will change eltype of cols to disallow missing by default. Use dropmissing!(df, cols, disallowmissing=false) to retain missing.\n",
      "│   caller = dropmissing!(::DataFrame) at abstractdataframe.jl:733\n",
      "└ @ DataFrames /opt/julia/packages/DataFrames/IKMvt/src/abstractdataframe/abstractdataframe.jl:733\n"
     ]
    },
    {
     "data": {
      "text/plain": [
       "2-element Array{Float64,1}:\n",
       "  2.0\n",
       " 20.0"
      ]
     },
     "execution_count": 12,
     "metadata": {},
     "output_type": "execute_result"
    }
   ],
   "source": [
    "dropmissing!(df)\n",
    "df[:b] = convert(Array{Float64,1},df[:b])"
   ]
  },
  {
   "cell_type": "code",
   "execution_count": 17,
   "metadata": {},
   "outputs": [
    {
     "name": "stdout",
     "output_type": "stream",
     "text": [
      "2×4 DataFrame\n",
      "│ Row │ a     │ b       │ c      │ d      │\n",
      "│     │ \u001b[90mInt64\u001b[39m │ \u001b[90mFloat64\u001b[39m │ \u001b[90mInt64⍰\u001b[39m │ \u001b[90mInt64⍰\u001b[39m │\n",
      "├─────┼───────┼─────────┼────────┼────────┤\n",
      "│ 1   │ 1     │ 2.0     │ 3      │ 4      │\n",
      "│ 2   │ 10    │ 20.0    │ 30     │ 40     │"
     ]
    }
   ],
   "source": [
    "show(df)"
   ]
  },
  {
   "cell_type": "code",
   "execution_count": 16,
   "metadata": {},
   "outputs": [
    {
     "data": {
      "text/plain": [
       "4-element Array{Type,1}:\n",
       " Int64                \n",
       " Float64              \n",
       " Union{Missing, Int64}\n",
       " Union{Missing, Int64}"
      ]
     },
     "execution_count": 16,
     "metadata": {},
     "output_type": "execute_result"
    }
   ],
   "source": [
    "colwise(eltype, df)"
   ]
  },
  {
   "cell_type": "code",
   "execution_count": null,
   "metadata": {},
   "outputs": [],
   "source": []
  }
 ],
 "metadata": {
  "kernelspec": {
   "display_name": "Julia 1.1.0",
   "language": "julia",
   "name": "julia-1.1"
  },
  "language_info": {
   "file_extension": ".jl",
   "mimetype": "application/julia",
   "name": "julia",
   "version": "1.1.0"
  }
 },
 "nbformat": 4,
 "nbformat_minor": 2
}
